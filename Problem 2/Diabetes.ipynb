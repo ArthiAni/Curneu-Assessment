{
  "nbformat": 4,
  "nbformat_minor": 0,
  "metadata": {
    "colab": {
      "name": "Diabetes.ipynb",
      "provenance": []
    },
    "kernelspec": {
      "name": "python3",
      "display_name": "Python 3"
    }
  },
  "cells": [
    {
      "cell_type": "code",
      "metadata": {
        "id": "a5vfcwSEiSi1"
      },
      "source": [
        "import pandas as pd\r\n",
        "dbdf = pd.read_csv('/content/Diabetes Database.csv')"
      ],
      "execution_count": 1,
      "outputs": []
    },
    {
      "cell_type": "code",
      "metadata": {
        "colab": {
          "base_uri": "https://localhost:8080/",
          "height": 194
        },
        "id": "wXZBDoYUmahx",
        "outputId": "80b33860-5fae-42ca-dd0a-920b8456199c"
      },
      "source": [
        "dbdf.head()"
      ],
      "execution_count": 2,
      "outputs": [
        {
          "output_type": "execute_result",
          "data": {
            "text/html": [
              "<div>\n",
              "<style scoped>\n",
              "    .dataframe tbody tr th:only-of-type {\n",
              "        vertical-align: middle;\n",
              "    }\n",
              "\n",
              "    .dataframe tbody tr th {\n",
              "        vertical-align: top;\n",
              "    }\n",
              "\n",
              "    .dataframe thead th {\n",
              "        text-align: right;\n",
              "    }\n",
              "</style>\n",
              "<table border=\"1\" class=\"dataframe\">\n",
              "  <thead>\n",
              "    <tr style=\"text-align: right;\">\n",
              "      <th></th>\n",
              "      <th>Pregnancies</th>\n",
              "      <th>Glucose</th>\n",
              "      <th>BloodPressure</th>\n",
              "      <th>SkinThickness</th>\n",
              "      <th>Insulin</th>\n",
              "      <th>BMI</th>\n",
              "      <th>DiabetesPedigreeFunction</th>\n",
              "      <th>Age</th>\n",
              "      <th>Outcome</th>\n",
              "    </tr>\n",
              "  </thead>\n",
              "  <tbody>\n",
              "    <tr>\n",
              "      <th>0</th>\n",
              "      <td>6</td>\n",
              "      <td>148</td>\n",
              "      <td>72</td>\n",
              "      <td>35</td>\n",
              "      <td>0</td>\n",
              "      <td>33.6</td>\n",
              "      <td>0.627</td>\n",
              "      <td>50</td>\n",
              "      <td>1</td>\n",
              "    </tr>\n",
              "    <tr>\n",
              "      <th>1</th>\n",
              "      <td>1</td>\n",
              "      <td>85</td>\n",
              "      <td>66</td>\n",
              "      <td>29</td>\n",
              "      <td>0</td>\n",
              "      <td>26.6</td>\n",
              "      <td>0.351</td>\n",
              "      <td>31</td>\n",
              "      <td>0</td>\n",
              "    </tr>\n",
              "    <tr>\n",
              "      <th>2</th>\n",
              "      <td>8</td>\n",
              "      <td>183</td>\n",
              "      <td>64</td>\n",
              "      <td>0</td>\n",
              "      <td>0</td>\n",
              "      <td>23.3</td>\n",
              "      <td>0.672</td>\n",
              "      <td>32</td>\n",
              "      <td>1</td>\n",
              "    </tr>\n",
              "    <tr>\n",
              "      <th>3</th>\n",
              "      <td>1</td>\n",
              "      <td>89</td>\n",
              "      <td>66</td>\n",
              "      <td>23</td>\n",
              "      <td>94</td>\n",
              "      <td>28.1</td>\n",
              "      <td>0.167</td>\n",
              "      <td>21</td>\n",
              "      <td>0</td>\n",
              "    </tr>\n",
              "    <tr>\n",
              "      <th>4</th>\n",
              "      <td>0</td>\n",
              "      <td>137</td>\n",
              "      <td>40</td>\n",
              "      <td>35</td>\n",
              "      <td>168</td>\n",
              "      <td>43.1</td>\n",
              "      <td>2.288</td>\n",
              "      <td>33</td>\n",
              "      <td>1</td>\n",
              "    </tr>\n",
              "  </tbody>\n",
              "</table>\n",
              "</div>"
            ],
            "text/plain": [
              "   Pregnancies  Glucose  BloodPressure  ...  DiabetesPedigreeFunction  Age  Outcome\n",
              "0            6      148             72  ...                     0.627   50        1\n",
              "1            1       85             66  ...                     0.351   31        0\n",
              "2            8      183             64  ...                     0.672   32        1\n",
              "3            1       89             66  ...                     0.167   21        0\n",
              "4            0      137             40  ...                     2.288   33        1\n",
              "\n",
              "[5 rows x 9 columns]"
            ]
          },
          "metadata": {
            "tags": []
          },
          "execution_count": 2
        }
      ]
    },
    {
      "cell_type": "code",
      "metadata": {
        "colab": {
          "base_uri": "https://localhost:8080/"
        },
        "id": "8X4TIbKImbt6",
        "outputId": "6819ba65-7f97-46de-9276-a1824e0e613b"
      },
      "source": [
        "print('Different attributes provided in the dataset to find which patients have diabeties are...')\r\n",
        "print(dbdf.columns.values)"
      ],
      "execution_count": 3,
      "outputs": [
        {
          "output_type": "stream",
          "text": [
            "Different attributes provided in the dataset to find which patients have diabeties are...\n",
            "['Pregnancies' 'Glucose' 'BloodPressure' 'SkinThickness' 'Insulin' 'BMI'\n",
            " 'DiabetesPedigreeFunction' 'Age' 'Outcome']\n"
          ],
          "name": "stdout"
        }
      ]
    },
    {
      "cell_type": "code",
      "metadata": {
        "colab": {
          "base_uri": "https://localhost:8080/"
        },
        "id": "EPs7GSHMmbls",
        "outputId": "c4a2559d-38e3-432b-9523-538611fbba7c"
      },
      "source": [
        "# Here, Outcome value 0 means non-diabetic and 1 means diabetic\r\n",
        "# Class distribution\r\n",
        "dbdf.groupby(dbdf.columns[-1]).size()"
      ],
      "execution_count": 4,
      "outputs": [
        {
          "output_type": "execute_result",
          "data": {
            "text/plain": [
              "Outcome\n",
              "0    500\n",
              "1    268\n",
              "dtype: int64"
            ]
          },
          "metadata": {
            "tags": []
          },
          "execution_count": 4
        }
      ]
    },
    {
      "cell_type": "code",
      "metadata": {
        "colab": {
          "base_uri": "https://localhost:8080/",
          "height": 608
        },
        "id": "25zDK_iUwtWB",
        "outputId": "978f8bd1-9744-4071-9a77-930480e7b751"
      },
      "source": [
        "# Data distribution\r\n",
        "import matplotlib.pyplot as plt\r\n",
        "\r\n",
        "fig = plt.figure(figsize = (9,9))\r\n",
        "ax = fig.gca()\r\n",
        "dbdf.hist(ax = ax)\r\n",
        "\r\n",
        "plt.show()"
      ],
      "execution_count": 5,
      "outputs": [
        {
          "output_type": "stream",
          "text": [
            "/usr/local/lib/python3.7/dist-packages/ipykernel_launcher.py:6: UserWarning: To output multiple subplots, the figure containing the passed axes is being cleared\n",
            "  \n"
          ],
          "name": "stderr"
        },
        {
          "output_type": "display_data",
          "data": {
            "image/png": "[encoded data removed]",
            "text/plain": [
              "<Figure size 648x648 with 9 Axes>"
            ]
          },
          "metadata": {
            "tags": [],
            "needs_background": "light"
          }
        }
      ]
    },
    {
      "cell_type": "code",
      "metadata": {
        "colab": {
          "base_uri": "https://localhost:8080/",
          "height": 1000
        },
        "id": "WQJWpVYbHHiD",
        "outputId": "d810e1b3-0fb9-47ff-8c15-157a00fb4e8b"
      },
      "source": [
        "dbdf.groupby(dbdf.columns[-1]).hist(figsize = (9,9))\r\n",
        "print('OUTCOME - 0 (is 1st subplot) & OUTCOME - 1 (is 2nd subplot)')\r\n",
        "\r\n",
        "plt.show()"
      ],
      "execution_count": 6,
      "outputs": [
        {
          "output_type": "stream",
          "text": [
            "OUTCOME - 0 (is 1st subplot) & OUTCOME - 1 (is 2nd subplot)\n"
          ],
          "name": "stdout"
        },
        {
          "output_type": "display_data",
          "data": {
            "image/png": "[encoded data removed]",
            "text/plain": [
              "<Figure size 648x648 with 9 Axes>"
            ]
          },
          "metadata": {
            "tags": [],
            "needs_background": "light"
          }
        },
        {
          "output_type": "display_data",
          "data": {
            "image/png": "[encoded data removed]",
            "text/plain": [
              "<Figure size 648x648 with 9 Axes>"
            ]
          },
          "metadata": {
            "tags": [],
            "needs_background": "light"
          }
        }
      ]
    },
    {
      "cell_type": "code",
      "metadata": {
        "colab": {
          "base_uri": "https://localhost:8080/"
        },
        "id": "sBLYXXWH2duM",
        "outputId": "2664580b-bd00-4cb1-cabe-87b6327a940e"
      },
      "source": [
        "# Finding whether any missing values are present in the data\r\n",
        "dbdf.isna().sum()"
      ],
      "execution_count": 7,
      "outputs": [
        {
          "output_type": "execute_result",
          "data": {
            "text/plain": [
              "Pregnancies                 0\n",
              "Glucose                     0\n",
              "BloodPressure               0\n",
              "SkinThickness               0\n",
              "Insulin                     0\n",
              "BMI                         0\n",
              "DiabetesPedigreeFunction    0\n",
              "Age                         0\n",
              "Outcome                     0\n",
              "dtype: int64"
            ]
          },
          "metadata": {
            "tags": []
          },
          "execution_count": 7
        }
      ]
    },
    {
      "cell_type": "code",
      "metadata": {
        "colab": {
          "base_uri": "https://localhost:8080/"
        },
        "id": "LuH04-M32e7N",
        "outputId": "ac4377e9-8fae-4905-dd40-a07ac3fb3754"
      },
      "source": [
        "# Finding whether any null values are present in the data\r\n",
        "dbdf.isnull().sum()"
      ],
      "execution_count": 8,
      "outputs": [
        {
          "output_type": "execute_result",
          "data": {
            "text/plain": [
              "Pregnancies                 0\n",
              "Glucose                     0\n",
              "BloodPressure               0\n",
              "SkinThickness               0\n",
              "Insulin                     0\n",
              "BMI                         0\n",
              "DiabetesPedigreeFunction    0\n",
              "Age                         0\n",
              "Outcome                     0\n",
              "dtype: int64"
            ]
          },
          "metadata": {
            "tags": []
          },
          "execution_count": 8
        }
      ]
    },
    {
      "cell_type": "code",
      "metadata": {
        "colab": {
          "base_uri": "https://localhost:8080/"
        },
        "id": "ooAhFA1_2eyL",
        "outputId": "cd5350e0-6dfa-4e85-aa57-958fb9ed0580"
      },
      "source": [
        "# For diabetes dataset, possible outliers would be attributes value equals to zero. \r\n",
        "# So we would check whether attribute values are zero.\r\n",
        "\r\n",
        "for i in range(1, len(dbdf.columns) - 3):\r\n",
        "  if(len(dbdf.columns[i]) > 12):\r\n",
        "    print('Total no. of rows having 0 in ',dbdf.columns[i],' is ',dbdf[dbdf[dbdf.columns[i]] == 0].shape[0])\r\n",
        "  elif(len(dbdf.columns[i]) > 5):\r\n",
        "    print('Total no. of rows having 0 in ',dbdf.columns[i],' is\\t ',dbdf[dbdf[dbdf.columns[i]] == 0].shape[0])\r\n",
        "  else:\r\n",
        "    print('Total no. of rows having 0 in ',dbdf.columns[i],' is\\t\\t ',dbdf[dbdf[dbdf.columns[i]] == 0].shape[0])"
      ],
      "execution_count": 9,
      "outputs": [
        {
          "output_type": "stream",
          "text": [
            "Total no. of rows having 0 in  Glucose  is\t  5\n",
            "Total no. of rows having 0 in  BloodPressure  is  35\n",
            "Total no. of rows having 0 in  SkinThickness  is  227\n",
            "Total no. of rows having 0 in  Insulin  is\t  374\n",
            "Total no. of rows having 0 in  BMI  is\t\t  11\n"
          ],
          "name": "stdout"
        }
      ]
    },
    {
      "cell_type": "code",
      "metadata": {
        "id": "JLCxAhWI2ef0"
      },
      "source": [
        "# Since for SkinThickness and Insulin, Total values is large.\r\n",
        "# It will not be a better option to remove those rows.\r\n",
        "# So we try to remove the rows of atrribute Glucose, BloodPressure and BMI\r\n",
        "\r\n",
        "mdf = dbdf[(dbdf.Glucose != 0) & (dbdf.BloodPressure != 0) & (dbdf.BMI != 0)]"
      ],
      "execution_count": 10,
      "outputs": []
    },
    {
      "cell_type": "code",
      "metadata": {
        "id": "uZzrapqC_c11"
      },
      "source": [
        "X = mdf.iloc[:,:-1].values\r\n",
        "y = mdf.iloc[:,-1].values.reshape(-1,1)"
      ],
      "execution_count": 11,
      "outputs": []
    },
    {
      "cell_type": "code",
      "metadata": {
        "id": "nPPsF9LX_dYX"
      },
      "source": [
        "# Split the data into train and test\r\n",
        "from sklearn.model_selection import train_test_split\r\n",
        "\r\n",
        "X_train, X_test, y_train, y_test = train_test_split(X, y, test_size = 0.25, random_state = 0)\r\n"
      ],
      "execution_count": 12,
      "outputs": []
    },
    {
      "cell_type": "code",
      "metadata": {
        "id": "QZKjawCoYrLF"
      },
      "source": [
        "# Model selection\r\n",
        "\r\n",
        "from sklearn.neighbors import KNeighborsClassifier\r\n",
        "from sklearn.linear_model import LogisticRegression\r\n",
        "from sklearn.tree import DecisionTreeClassifier\r\n",
        "from sklearn.naive_bayes import GaussianNB\r\n",
        "from sklearn.ensemble import RandomForestClassifier"
      ],
      "execution_count": 13,
      "outputs": []
    },
    {
      "cell_type": "code",
      "metadata": {
        "id": "MaJTi-OrYrD4"
      },
      "source": [
        "models = []\r\n",
        "models.append(('KNN', KNeighborsClassifier()))\r\n",
        "models.append(('LR', LogisticRegression()))\r\n",
        "models.append(('DT', DecisionTreeClassifier()))\r\n",
        "models.append(('GNB', GaussianNB()))\r\n",
        "models.append(('RF', RandomForestClassifier()))"
      ],
      "execution_count": 14,
      "outputs": []
    },
    {
      "cell_type": "code",
      "metadata": {
        "colab": {
          "base_uri": "https://localhost:8080/"
        },
        "id": "_L72nq8VYq8-",
        "outputId": "879c7101-e96c-479a-9d15-b3cd30c8d355"
      },
      "source": [
        "from sklearn.metrics import accuracy_score\r\n",
        "import warnings\r\n",
        "warnings.filterwarnings(\"ignore\")\r\n",
        "\r\n",
        "\r\n",
        "names = []\r\n",
        "scores = []\r\n",
        "\r\n",
        "for name, model in models:\r\n",
        "    model.fit(X_train, y_train)\r\n",
        "    y_pred = model.predict(X_test)\r\n",
        "    scores.append(accuracy_score(y_test, y_pred))\r\n",
        "    names.append(name)\r\n",
        "\r\n",
        "tr_split = pd.DataFrame({'Name': names, 'Score': scores})\r\n",
        "print(tr_split)"
      ],
      "execution_count": 15,
      "outputs": [
        {
          "output_type": "stream",
          "text": [
            "  Name     Score\n",
            "0  KNN  0.701657\n",
            "1   LR  0.751381\n",
            "2   DT  0.701657\n",
            "3  GNB  0.734807\n",
            "4   RF  0.734807\n"
          ],
          "name": "stdout"
        }
      ]
    },
    {
      "cell_type": "code",
      "metadata": {
        "colab": {
          "base_uri": "https://localhost:8080/"
        },
        "id": "7ZpqyxGo_cRf",
        "outputId": "5d798288-f3c3-46ef-e8f5-55046b8d8c00"
      },
      "source": [
        "from sklearn.model_selection import StratifiedKFold\r\n",
        "from sklearn.model_selection import cross_val_score\r\n",
        "\r\n",
        "strat_k_fold = StratifiedKFold(n_splits=10, random_state=10)\r\n",
        "\r\n",
        "names = []\r\n",
        "scores = []\r\n",
        "\r\n",
        "for name, model in models:\r\n",
        "    \r\n",
        "    score = cross_val_score(model, X, y, cv=strat_k_fold, scoring='accuracy').mean()\r\n",
        "    names.append(name)\r\n",
        "    scores.append(score)\r\n",
        "\r\n",
        "kf_cross_val = pd.DataFrame({'Name': names, 'Score': scores})\r\n",
        "print(kf_cross_val)"
      ],
      "execution_count": 16,
      "outputs": [
        {
          "output_type": "stream",
          "text": [
            "  Name     Score\n",
            "0  KNN  0.714136\n",
            "1   LR  0.763813\n",
            "2   DT  0.688071\n",
            "3  GNB  0.754205\n",
            "4   RF  0.766743\n"
          ],
          "name": "stdout"
        }
      ]
    },
    {
      "cell_type": "code",
      "metadata": {
        "colab": {
          "base_uri": "https://localhost:8080/",
          "height": 282
        },
        "id": "bnxtPTJM_cIu",
        "outputId": "86603e84-f480-4d9f-e997-ba633a1b5078"
      },
      "source": [
        "import seaborn as sns\r\n",
        "\r\n",
        "axis = sns.barplot(x = 'Name', y = 'Score', data = kf_cross_val)\r\n",
        "axis.set(xlabel='Classifier', ylabel='Accuracy')\r\n",
        "\r\n",
        "for p in axis.patches:\r\n",
        "    height = p.get_height()\r\n",
        "    axis.text(p.get_x() + p.get_width()/2, height + 0.005, '{:1.4f}'.format(height), ha=\"center\") \r\n",
        "    \r\n",
        "plt.show()"
      ],
      "execution_count": 17,
      "outputs": [
        {
          "output_type": "display_data",
          "data": {
            "image/png": "[encoded data removed]",
            "text/plain": [
              "<Figure size 432x288 with 1 Axes>"
            ]
          },
          "metadata": {
            "tags": [],
            "needs_background": "light"
          }
        }
      ]
    },
    {
      "cell_type": "code",
      "metadata": {
        "colab": {
          "base_uri": "https://localhost:8080/"
        },
        "id": "yWVvPGGmm0by",
        "outputId": "3205b622-8814-4395-af8a-5874a8980697"
      },
      "source": [
        "# Logistic regression and Random Forest have almost same accuracy for diabetes prediction.\r\n",
        "# So let's try to build both the models from scratch and find which one give best result(in scratch).\r\n",
        "\r\n",
        "import numpy as np\r\n",
        "\r\n",
        "class LogitRegression():\r\n",
        "    def __init__(self, learning_rate, iterations):\r\n",
        "        self.learning_rate = learning_rate         \r\n",
        "        self.iterations = iterations \r\n",
        "          \r\n",
        "    # Function for model training     \r\n",
        "    def fit(self, X, Y):\r\n",
        "        # no_of_training_examples, no_of_features         \r\n",
        "        self.m, self.n = X.shape\r\n",
        "        # weight initialization\r\n",
        "        self.W = np.zeros(self.n)\r\n",
        "        self.b = 0\r\n",
        "        self.X = X\r\n",
        "        self.Y = Y\r\n",
        "          \r\n",
        "        # gradient descent learning \r\n",
        "                  \r\n",
        "        for i in range(self.iterations):\r\n",
        "            self.update_weights()\r\n",
        "        return self\r\n",
        "      \r\n",
        "    # Helper function to update weights in gradient descent \r\n",
        "      \r\n",
        "    def update_weights(self):\r\n",
        "        A = 1 / (1 + np.exp(-(self.X.dot(self.W) + self.b)))\r\n",
        "          \r\n",
        "        # calculate gradients         \r\n",
        "        tmp = (A - self.Y.T)         \r\n",
        "        tmp = np.reshape(tmp, self.m)         \r\n",
        "        dW = np.dot(self.X.T, tmp) / self.m          \r\n",
        "        db = np.sum(tmp) / self.m  \r\n",
        "          \r\n",
        "        # update weights     \r\n",
        "        self.W = self.W - self.learning_rate * dW     \r\n",
        "        self.b = self.b - self.learning_rate * db \r\n",
        "          \r\n",
        "        return self\r\n",
        "      \r\n",
        "    # Hypothetical function  h( x )  \r\n",
        "      \r\n",
        "    def predict(self, X) :     \r\n",
        "        Z = 1 / (1 + np.exp(-(X.dot(self.W) + self.b)))         \r\n",
        "        Y = np.where(Z > 0.5, 1, 0)\r\n",
        "        return Y\r\n",
        "\r\n",
        "model = LogitRegression(learning_rate = 0.02, iterations = 6000)\r\n",
        "model.fit(X_train, y_train)\r\n",
        "Y_pred = model.predict(X_test)\r\n",
        "\r\n",
        "correctly_classified = 0\r\n",
        "count = 0\r\n",
        "for count in range(np.size(Y_pred)):\r\n",
        "  if y_test[count] == Y_pred[count]:\r\n",
        "    correctly_classified = correctly_classified + 1\r\n",
        "  count = count + 1\r\n",
        "LR_acc = np.round(correctly_classified/count,3)\r\n",
        "print(\"Accuracy on test set by our model :\",LR_acc)"
      ],
      "execution_count": 18,
      "outputs": [
        {
          "output_type": "stream",
          "text": [
            "Accuracy on test set by our model : 0.696\n"
          ],
          "name": "stdout"
        }
      ]
    },
    {
      "cell_type": "code",
      "metadata": {
        "id": "nxzpgblLm0ZX"
      },
      "source": [
        "class RandomForest():\r\n",
        "    def __init__(self, x, y, n_trees, n_features, sample_sz, depth=10, min_leaf=5):\r\n",
        "        np.random.seed(12)\r\n",
        "        if n_features == 'sqrt':\r\n",
        "            self.n_features = int(np.sqrt(x.shape[1]))\r\n",
        "        elif n_features == 'log2':\r\n",
        "            self.n_features = int(np.log2(x.shape[1]))\r\n",
        "        else:\r\n",
        "            self.n_features = n_features\r\n",
        "        self.x, self.y, self.sample_sz, self.depth, self.min_leaf  = x, y, sample_sz, depth, min_leaf\r\n",
        "        self.trees = [self.create_tree() for i in range(n_trees)]\r\n",
        "\r\n",
        "    def create_tree(self):\r\n",
        "        idxs = np.random.permutation(len(self.y))[:self.sample_sz]\r\n",
        "        f_idxs = np.random.permutation(self.x.shape[1])[:self.n_features]\r\n",
        "        return DecisionTree(self.x[idxs], self.y[idxs], self.n_features, f_idxs,\r\n",
        "                    idxs=np.array(range(self.sample_sz)),depth = self.depth, min_leaf=self.min_leaf)\r\n",
        "        \r\n",
        "    def predict(self, x):\r\n",
        "        return np.mean([t.predict(x) for t in self.trees], axis=0)\r\n",
        "\r\n",
        "def std_agg(cnt, s1, s2): return math.sqrt((s2/cnt) - (s1/cnt)**2)\r\n",
        "\r\n",
        "class DecisionTree():\r\n",
        "    def __init__(self, x, y, n_features, f_idxs,idxs,depth=10, min_leaf=5):\r\n",
        "        self.x, self.y, self.idxs, self.min_leaf, self.f_idxs = x, y, idxs, min_leaf, f_idxs\r\n",
        "        self.depth = depth\r\n",
        "        self.n_features = n_features\r\n",
        "        self.n, self.c = len(idxs), x.shape[1]\r\n",
        "        self.val = np.mean(y[idxs])\r\n",
        "        self.score = float('inf')\r\n",
        "        self.find_varsplit()\r\n",
        "        \r\n",
        "    def find_varsplit(self):\r\n",
        "        for i in self.f_idxs: self.find_better_split(i)\r\n",
        "        if self.is_leaf: return\r\n",
        "        x = self.split_col\r\n",
        "        lhs = np.nonzero(x<=self.split)[0]\r\n",
        "        rhs = np.nonzero(x>self.split)[0]\r\n",
        "        lf_idxs = np.random.permutation(self.x.shape[1])[:self.n_features]\r\n",
        "        rf_idxs = np.random.permutation(self.x.shape[1])[:self.n_features]\r\n",
        "        self.lhs = DecisionTree(self.x, self.y, self.n_features, lf_idxs, self.idxs[lhs], depth=self.depth-1, min_leaf=self.min_leaf)\r\n",
        "        self.rhs = DecisionTree(self.x, self.y, self.n_features, rf_idxs, self.idxs[rhs], depth=self.depth-1, min_leaf=self.min_leaf)\r\n",
        "\r\n",
        "    def find_better_split(self, var_idx):\r\n",
        "        x, y = self.x[self.idxs,var_idx], self.y[self.idxs]\r\n",
        "        sort_idx = np.argsort(x)\r\n",
        "        sort_y,sort_x = y[sort_idx], x[sort_idx]\r\n",
        "        rhs_cnt,rhs_sum,rhs_sum2 = self.n, sort_y.sum(), (sort_y**2).sum()\r\n",
        "        lhs_cnt,lhs_sum,lhs_sum2 = 0,0.,0.\r\n",
        "\r\n",
        "        for i in range(0,self.n-self.min_leaf-1):\r\n",
        "            xi,yi = sort_x[i],sort_y[i]\r\n",
        "            lhs_cnt += 1; rhs_cnt -= 1\r\n",
        "            lhs_sum += yi; rhs_sum -= yi\r\n",
        "            lhs_sum2 += yi**2; rhs_sum2 -= yi**2\r\n",
        "            if i<self.min_leaf or xi==sort_x[i+1]:\r\n",
        "                continue\r\n",
        "\r\n",
        "            lhs_std = std_agg(lhs_cnt, lhs_sum, lhs_sum2)\r\n",
        "            rhs_std = std_agg(rhs_cnt, rhs_sum, rhs_sum2)\r\n",
        "            curr_score = lhs_std*lhs_cnt + rhs_std*rhs_cnt\r\n",
        "            if curr_score<self.score: \r\n",
        "                self.var_idx,self.score,self.split = var_idx,curr_score,xi\r\n",
        "\r\n",
        "    @property\r\n",
        "    def split_name(self): return self.x.columns[self.var_idx]\r\n",
        "    \r\n",
        "    @property\r\n",
        "    def split_col(self): return self.x[self.idxs,self.var_idx]\r\n",
        "\r\n",
        "    @property\r\n",
        "    def is_leaf(self): return self.score == float('inf') or self.depth <= 0 \r\n",
        "    \r\n",
        "\r\n",
        "    def predict(self, x):\r\n",
        "        return np.array([self.predict_row(xi) for xi in x])\r\n",
        "\r\n",
        "    def predict_row(self, xi):\r\n",
        "        if self.is_leaf: return self.val\r\n",
        "        t = self.lhs if xi[self.var_idx]<=self.split else self.rhs\r\n",
        "        return t.predict_row(xi)"
      ],
      "execution_count": 19,
      "outputs": []
    },
    {
      "cell_type": "code",
      "metadata": {
        "id": "EeBebVa3pyBM"
      },
      "source": [
        "import math\r\n",
        "\r\n",
        "model = RandomForest(X_train, y_train, n_trees=100, n_features='sqrt', sample_sz=len(X_train))#, depth=10, min_leaf=2)"
      ],
      "execution_count": 20,
      "outputs": []
    },
    {
      "cell_type": "code",
      "metadata": {
        "colab": {
          "base_uri": "https://localhost:8080/"
        },
        "id": "AMfsXLPlrcpF",
        "outputId": "cbc33e98-ffd5-4f00-f0fd-41324d5fb3d2"
      },
      "source": [
        "preds = model.predict(X_test)\r\n",
        "\r\n",
        "RF_acc = sum(preds == y_test)/len(y_test)\r\n",
        "RF_acc = np.round(RF_acc[RF_acc != 0],3)\r\n",
        "print(\"Testing accuracy: %.3f\" %RF_acc[0])"
      ],
      "execution_count": 21,
      "outputs": [
        {
          "output_type": "stream",
          "text": [
            "Testing accuracy: 0.669\n"
          ],
          "name": "stdout"
        }
      ]
    },
    {
      "cell_type": "code",
      "metadata": {
        "colab": {
          "base_uri": "https://localhost:8080/"
        },
        "id": "4YSfO2pZ3QO1",
        "outputId": "423e104a-c6cd-43ec-f478-433708027d6a"
      },
      "source": [
        "if RF_acc[0] > LR_acc:\r\n",
        "  print(\"Random Forest is the best model with {}% accuracy for Diabetes prediction\".format(RF_acc[0]*100))\r\n",
        "elif RF_acc[0] < LR_acc:\r\n",
        "  print(\"Logistic Regression is the best model with {}% accuracy for Diabetes prediction\".format(LR_acc*100))\r\n",
        "else:\r\n",
        "  print(\"Both Logistic and Random forest are the best model with {}% accuracy for Diabetes prediction\".format(LR*100))"
      ],
      "execution_count": 22,
      "outputs": [
        {
          "output_type": "stream",
          "text": [
            "Logistic Regression is the best model with 69.6% accuracy for Diabetes prediction\n"
          ],
          "name": "stdout"
        }
      ]
    }
  ]
}